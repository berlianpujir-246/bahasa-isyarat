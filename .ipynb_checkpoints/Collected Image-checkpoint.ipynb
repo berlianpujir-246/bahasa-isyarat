{
 "cells": [
  {
   "cell_type": "code",
   "execution_count": 1,
   "metadata": {},
   "outputs": [],
   "source": [
    "import cv2\n",
    "import os\n",
    "import time\n",
    "import uuid"
   ]
  },
  {
   "cell_type": "code",
   "execution_count": 2,
   "metadata": {},
   "outputs": [],
   "source": [
    "IMAGES_PATH = 'Tensorflow/workspace/images/collectedimages'"
   ]
  },
  {
   "cell_type": "code",
   "execution_count": 3,
   "metadata": {},
   "outputs": [],
   "source": [
    "labels = ['rumah','sekolah']\n",
    "number_imgs = 15"
   ]
  },
  {
   "cell_type": "code",
   "execution_count": 7,
   "metadata": {},
   "outputs": [
    {
     "name": "stdout",
     "output_type": "stream",
     "text": [
      "Collecting images forrumah\n"
     ]
    },
    {
     "name": "stderr",
     "output_type": "stream",
     "text": [
      "A subdirectory or file ('Project already exists.\n",
      "Error occurred while processing: ('Project.\n",
      "A subdirectory or file Bangkit\\Tensorflow\\workspace\\images\\collectedimages\\\\'+label) already exists.\n",
      "Error occurred while processing: Bangkit\\Tensorflow\\workspace\\images\\collectedimages\\\\'+label).\n"
     ]
    },
    {
     "name": "stdout",
     "output_type": "stream",
     "text": [
      "Collecting images forsekolah\n"
     ]
    }
   ],
   "source": [
    "for label in labels:\n",
    "    !mkdir ('Project Bangkit\\Tensorflow\\workspace\\images\\collectedimages\\\\'+label)\n",
    "    cap = cv2.VideoCapture(0)\n",
    "    print('Collecting images for{}'.format(label))\n",
    "    time.sleep(5)\n",
    "    for imgnum in range(number_imgs):\n",
    "      ret, frame = cap.read()\n",
    "      imgname = os.path.join(IMAGES_PATH, label, label+'.'+'{}.jpg'.format(str(uuid.uuid1())))\n",
    "      cv2.imwrite(imgname, frame)\n",
    "      cv2.imshow('frame', frame)\n",
    "      time.sleep(2)\n",
    "\n",
    "      if cv2.waitKey(1) & 0xFF == ord('q'):\n",
    "        break\n",
    "    cap.release()"
   ]
  },
  {
   "cell_type": "code",
   "execution_count": null,
   "metadata": {},
   "outputs": [],
   "source": []
  }
 ],
 "metadata": {
  "kernelspec": {
   "display_name": "Python 3",
   "language": "python",
   "name": "python3"
  },
  "language_info": {
   "codemirror_mode": {
    "name": "ipython",
    "version": 3
   },
   "file_extension": ".py",
   "mimetype": "text/x-python",
   "name": "python",
   "nbconvert_exporter": "python",
   "pygments_lexer": "ipython3",
   "version": "3.7.9"
  }
 },
 "nbformat": 4,
 "nbformat_minor": 4
}
